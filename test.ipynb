{
 "cells": [
  {
   "cell_type": "code",
   "execution_count": 1,
   "metadata": {},
   "outputs": [],
   "source": [
    "import torch\n",
    "import torch.nn as nn\n",
    "import torch.nn.functional as F"
   ]
  },
  {
   "cell_type": "code",
   "execution_count": 2,
   "metadata": {},
   "outputs": [],
   "source": [
    "# create a simple feedforward neural net with 1 hidden layer\n",
    "class Net(nn.Module):\n",
    "    def __init__(self):\n",
    "        super(Net, self).__init__()\n",
    "        self.fc1 = nn.Linear(2, 2)\n",
    "        self.fc2 = nn.Linear(2, 1)\n",
    "\n",
    "    def forward(self, x):\n",
    "        x = F.relu(self.fc1(x))\n",
    "        x = self.fc2(x)\n",
    "        return x"
   ]
  },
  {
   "cell_type": "code",
   "execution_count": 3,
   "metadata": {},
   "outputs": [],
   "source": [
    "# instantiate two models\n",
    "model1 = Net()\n",
    "model2 = Net()"
   ]
  },
  {
   "cell_type": "code",
   "execution_count": 4,
   "metadata": {},
   "outputs": [
    {
     "data": {
      "text/plain": [
       "{'fc1.weight': Parameter containing:\n",
       " tensor([[-0.5390, -0.1353],\n",
       "         [-0.5097, -0.5405]], requires_grad=True),\n",
       " 'fc1.bias': Parameter containing:\n",
       " tensor([-0.1775,  0.2634], requires_grad=True),\n",
       " 'fc2.weight': Parameter containing:\n",
       " tensor([[-0.5788,  0.2535]], requires_grad=True),\n",
       " 'fc2.bias': Parameter containing:\n",
       " tensor([-0.4919], requires_grad=True)}"
      ]
     },
     "execution_count": 4,
     "metadata": {},
     "output_type": "execute_result"
    }
   ],
   "source": [
    "dict(model1.named_parameters())"
   ]
  },
  {
   "cell_type": "code",
   "execution_count": 5,
   "metadata": {},
   "outputs": [],
   "source": [
    "# instantiate the combined model\n",
    "combined_model = Net()"
   ]
  },
  {
   "cell_type": "code",
   "execution_count": 6,
   "metadata": {},
   "outputs": [],
   "source": [
    "alpha = nn.Parameter(torch.randn(1))\n",
    "beta = nn.Parameter(torch.randn(1))"
   ]
  },
  {
   "cell_type": "code",
   "execution_count": 7,
   "metadata": {},
   "outputs": [
    {
     "name": "stdout",
     "output_type": "stream",
     "text": [
      "replacing fc1.weight\n",
      "replacing fc1.bias\n",
      "replacing fc2.weight\n",
      "replacing fc2.bias\n"
     ]
    }
   ],
   "source": [
    "param_names = [name for name, _ in combined_model.named_parameters()]\n",
    "\n",
    "for name in param_names:\n",
    "    print(f'replacing {name}')\n",
    "    # del eval(f'combined_model.{name}')\n",
    "    exec(f'del combined_model.{name}')\n",
    "    # x = alpha * eval(f'model1.{name}') + beta * eval(f'model2.{name}')\n",
    "    exec(f'combined_model.{name} = alpha * model1.{name} + beta * model2.{name}')"
   ]
  },
  {
   "cell_type": "code",
   "execution_count": 8,
   "metadata": {},
   "outputs": [],
   "source": [
    "for name, param in model1.named_parameters():\n",
    "    param.requires_grad = False\n",
    "\n",
    "for name, param in model2.named_parameters():\n",
    "    param.requires_grad = False"
   ]
  },
  {
   "cell_type": "code",
   "execution_count": 9,
   "metadata": {},
   "outputs": [
    {
     "data": {
      "text/plain": [
       "{}"
      ]
     },
     "execution_count": 9,
     "metadata": {},
     "output_type": "execute_result"
    }
   ],
   "source": [
    "dict(combined_model.named_parameters())"
   ]
  },
  {
   "cell_type": "code",
   "execution_count": 10,
   "metadata": {},
   "outputs": [
    {
     "name": "stdout",
     "output_type": "stream",
     "text": [
      "alpha.grad = tensor([-0.4012])\n",
      "beta.grad = tensor([0.1048])\n"
     ]
    }
   ],
   "source": [
    "x = torch.tensor([1., 1.])\n",
    "y = combined_model(x)\n",
    "y.backward()\n",
    "\n",
    "print(f'alpha.grad = {alpha.grad}')\n",
    "print(f'beta.grad = {beta.grad}')"
   ]
  }
 ],
 "metadata": {
  "kernelspec": {
   "display_name": "base",
   "language": "python",
   "name": "python3"
  },
  "language_info": {
   "codemirror_mode": {
    "name": "ipython",
    "version": 3
   },
   "file_extension": ".py",
   "mimetype": "text/x-python",
   "name": "python",
   "nbconvert_exporter": "python",
   "pygments_lexer": "ipython3",
   "version": "3.11.9"
  }
 },
 "nbformat": 4,
 "nbformat_minor": 2
}
