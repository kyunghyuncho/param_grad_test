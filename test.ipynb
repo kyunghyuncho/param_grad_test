{
 "cells": [
  {
   "cell_type": "code",
   "execution_count": 1,
   "metadata": {},
   "outputs": [],
   "source": [
    "import torch\n",
    "import torch.nn as nn\n",
    "import torch.nn.functional as F"
   ]
  },
  {
   "cell_type": "code",
   "execution_count": 2,
   "metadata": {},
   "outputs": [],
   "source": [
    "# create a simple feedforward neural net with 1 hidden layer\n",
    "class Net(nn.Module):\n",
    "    def __init__(self):\n",
    "        super(Net, self).__init__()\n",
    "        self.fc1 = nn.Linear(2, 2)\n",
    "        self.fc2 = nn.Linear(2, 1)\n",
    "\n",
    "    def forward(self, x):\n",
    "        x = F.relu(self.fc1(x))\n",
    "        x = self.fc2(x)\n",
    "        return x"
   ]
  },
  {
   "cell_type": "code",
   "execution_count": 3,
   "metadata": {},
   "outputs": [],
   "source": [
    "# instantiate two models\n",
    "model1 = Net()\n",
    "model2 = Net()"
   ]
  },
  {
   "cell_type": "code",
   "execution_count": 6,
   "metadata": {},
   "outputs": [
    {
     "data": {
      "text/plain": [
       "{'fc1.weight': Parameter containing:\n",
       " tensor([[ 0.4587,  0.2876],\n",
       "         [ 0.3102, -0.0838]], requires_grad=True),\n",
       " 'fc1.bias': Parameter containing:\n",
       " tensor([-0.6388,  0.6372], requires_grad=True),\n",
       " 'fc2.weight': Parameter containing:\n",
       " tensor([[0.1490, 0.6845]], requires_grad=True),\n",
       " 'fc2.bias': Parameter containing:\n",
       " tensor([0.0091], requires_grad=True)}"
      ]
     },
     "execution_count": 6,
     "metadata": {},
     "output_type": "execute_result"
    }
   ],
   "source": [
    "dict(model1.named_parameters())"
   ]
  },
  {
   "cell_type": "code",
   "execution_count": 31,
   "metadata": {},
   "outputs": [],
   "source": [
    "# instantiate the combined model\n",
    "combined_model = Net()"
   ]
  },
  {
   "cell_type": "code",
   "execution_count": 32,
   "metadata": {},
   "outputs": [],
   "source": [
    "alpha = nn.Parameter(torch.randn(1))\n",
    "beta = nn.Parameter(torch.randn(1))"
   ]
  },
  {
   "cell_type": "code",
   "execution_count": 34,
   "metadata": {},
   "outputs": [
    {
     "name": "stdout",
     "output_type": "stream",
     "text": [
      "fc1.bias : Parameter containing:\n",
      "tensor([0.3785, 0.6520], requires_grad=True)\n",
      "fc2.weight : Parameter containing:\n",
      "tensor([[-0.0089, -0.6642]], requires_grad=True)\n",
      "fc2.bias : Parameter containing:\n",
      "tensor([-0.4093], requires_grad=True)\n"
     ]
    }
   ],
   "source": [
    "param_names = [name for name, _ in combined_model.named_parameters()]\n",
    "\n",
    "for name in param_names:\n",
    "    print(f'replacing {name}')\n",
    "    # del eval(f'combined_model.{name}')\n",
    "    exec(f'del combined_model.{name}')\n",
    "    # x = alpha * eval(f'model1.{name}') + beta * eval(f'model2.{name}')\n",
    "    exec(f'combined_model.{name} = alpha * model1.{name} + beta * model2.{name}')"
   ]
  },
  {
   "cell_type": "code",
   "execution_count": 35,
   "metadata": {},
   "outputs": [
    {
     "data": {
      "text/plain": [
       "{}"
      ]
     },
     "execution_count": 35,
     "metadata": {},
     "output_type": "execute_result"
    }
   ],
   "source": [
    "dict(combined_model.named_parameters())"
   ]
  },
  {
   "cell_type": "code",
   "execution_count": null,
   "metadata": {},
   "outputs": [],
   "source": [
    "x = torch.tensor([1., 1.])\n",
    "y = combined_model(x)\n",
    "y.backward()\n",
    "\n",
    "print(f'alpha.grad = {alpha.grad}')\n",
    "print(f'beta.grad = {beta.grad}')"
   ]
  }
 ],
 "metadata": {
  "kernelspec": {
   "display_name": "base",
   "language": "python",
   "name": "python3"
  },
  "language_info": {
   "codemirror_mode": {
    "name": "ipython",
    "version": 3
   },
   "file_extension": ".py",
   "mimetype": "text/x-python",
   "name": "python",
   "nbconvert_exporter": "python",
   "pygments_lexer": "ipython3",
   "version": "3.11.9"
  }
 },
 "nbformat": 4,
 "nbformat_minor": 2
}
